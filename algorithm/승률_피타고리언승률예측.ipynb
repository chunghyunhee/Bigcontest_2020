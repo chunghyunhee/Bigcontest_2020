{
  "nbformat": 4,
  "nbformat_minor": 0,
  "metadata": {
    "colab": {
      "name": "승률_피타고리언승률예측.ipynb",
      "provenance": []
    },
    "kernelspec": {
      "name": "python3",
      "display_name": "Python 3"
    }
  },
  "cells": [
    {
      "cell_type": "markdown",
      "metadata": {
        "id": "PnMdtYxYE8PX",
        "colab_type": "text"
      },
      "source": [
        "# 승률 예측을 위한 방법1. 피타고리언 승률예측\n",
        "- 2016-2020 각 년도에 대한 데이터에 피타고리언 승률을 예측한 이후에 데이터 전처리 진행하기 (외부 데이터 : 기온 데이터나 뉴스 데이터 등을 이용하여 그 요인을 찾는다)\n",
        "- 피타고리언 승률은 기본적으로 직관에 의존한 기대승률 예측방법이다. 이를 발전시킨 다른 모델이 있는지를 확인한다. "
      ]
    },
    {
      "cell_type": "code",
      "metadata": {
        "id": "j_mVO2Zi_a4q",
        "colab_type": "code",
        "colab": {}
      },
      "source": [
        "# requirements\n",
        "import pandas as pd\n",
        "import numpy as np\n",
        "import tensorflow as tf\n",
        "import sys\n",
        "import matplotlib.pyplot as plt\n",
        "%matplotlib inline"
      ],
      "execution_count": 6,
      "outputs": []
    },
    {
      "cell_type": "code",
      "metadata": {
        "id": "UuIGha97FPbG",
        "colab_type": "code",
        "colab": {
          "base_uri": "https://localhost:8080/",
          "height": 52
        },
        "outputId": "4a9cdb3e-14b8-4121-9f18-50694705fad8"
      },
      "source": [
        "# python version check\n",
        "print(\"파이썬 버전\", sys.version)"
      ],
      "execution_count": 3,
      "outputs": [
        {
          "output_type": "stream",
          "text": [
            "파이썬 버전 3.6.9 (default, Jul 17 2020, 12:50:27) \n",
            "[GCC 8.4.0]\n"
          ],
          "name": "stdout"
        }
      ]
    },
    {
      "cell_type": "code",
      "metadata": {
        "id": "H8vMUjG_GeXa",
        "colab_type": "code",
        "colab": {}
      },
      "source": [
        "# 파타고리언 승률 계산을 위한 함수 \n",
        "def pytagorian(arr):\n",
        "  temp = []\n",
        "  for i in range(len(arr)):\n",
        "    team_list = []\n",
        "    if sum(arr[i][1:5]):\n",
        "      team = arr[i][0]  # 팀명\n",
        "      g = arr[i][1]     # 전체 게임의 수 \n",
        "      rs = arr[i][5]    # 득점 (RS)\n",
        "      ra = arr[i][6]    # 실점 (RA)\n",
        "      wr = arr[i][7]    # 승률\n",
        "      team_list.append(team)\n",
        "      x = ((rs + ra)/g) ** 0.287 \n",
        "      team_list.append(x)\n",
        "      expected_wr = (rs**x / (rs**x +ra**x)) # 최종 기대 승률\n",
        "      team_list.append(expected_wr)\n",
        "      team_list.append(war)\n",
        "      temp.append(team_list)\n",
        "    return temp"
      ],
      "execution_count": 5,
      "outputs": []
    },
    {
      "cell_type": "code",
      "metadata": {
        "id": "Iul8zZabHYT8",
        "colab_type": "code",
        "colab": {}
      },
      "source": [
        "## 2016년 파타고리언 승률 계산 \n",
        "# 입력값을 어떻게 계산하는지 생각해보기 "
      ],
      "execution_count": null,
      "outputs": []
    }
  ]
}